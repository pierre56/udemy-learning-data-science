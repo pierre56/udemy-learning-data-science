{
 "cells": [
  {
   "cell_type": "markdown",
   "metadata": {},
   "source": [
    "# Hierarchical Clustering\n",
    "\n",
    "<img src=\"img/intro.png\" width=\"600\" height=\"400\">\n",
    "\n",
    "They are two types of Hierarchical clustering: __agglomerative (bottom up) and divisive (reverse of agglomerative)__.\n",
    "\n",
    "## Agglomerative HC\n",
    "\n",
    "<img src=\"img/steps.png\" width=\"800\" height=\"600\">\n",
    "\n",
    "### Closest clusters\n",
    "\n",
    "How do we measure de distance between two clusters ?\n",
    "\n",
    "Based on the problem, you can have different options, so you will need to choose one:\n",
    "\n",
    "<img src=\"img/distance_clusters.png\" width=\"600\" height=\"400\">\n",
    "\n",
    "### Detailed Steps\n",
    "\n",
    "<img src=\"img/step1.png\" width=\"600\" height=\"400\">\n",
    "\n",
    "<img src=\"img/step2.png\" width=\"600\" height=\"400\">\n",
    "\n",
    "<img src=\"img/step3.png\" width=\"600\" height=\"400\">\n",
    "\n",
    "<img src=\"img/step4.png\" width=\"600\" height=\"400\">\n",
    "\n",
    "<img src=\"img/final_step.png\" width=\"600\" height=\"400\">\n",
    "\n",
    "### Dendrograms\n",
    "\n",
    "\n",
    "\n"
   ]
  },
  {
   "cell_type": "code",
   "execution_count": null,
   "metadata": {},
   "outputs": [],
   "source": []
  }
 ],
 "metadata": {
  "kernelspec": {
   "display_name": "Python 3",
   "language": "python",
   "name": "python3"
  },
  "language_info": {
   "codemirror_mode": {
    "name": "ipython",
    "version": 3
   },
   "file_extension": ".py",
   "mimetype": "text/x-python",
   "name": "python",
   "nbconvert_exporter": "python",
   "pygments_lexer": "ipython3",
   "version": "3.7.0"
  }
 },
 "nbformat": 4,
 "nbformat_minor": 2
}
