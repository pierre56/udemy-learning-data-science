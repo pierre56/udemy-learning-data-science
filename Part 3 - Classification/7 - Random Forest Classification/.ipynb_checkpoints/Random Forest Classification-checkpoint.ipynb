{
 "cells": [
  {
   "cell_type": "markdown",
   "metadata": {},
   "source": [
    "# Random Forest Classification\n",
    "\n",
    "Ensemble learning is when you take multiple machine learning algorithm and put them together to build stronger one.\n",
    "\n",
    "Détailed step to build a random forest classifier based on multiple decision trees:\n",
    "\n",
    "<img src=\"img/intuition.png\" width=\"600\" height=\"400\">\n",
    "\n",
    "Now let's start with an example.\n"
   ]
  },
  {
   "cell_type": "code",
   "execution_count": null,
   "metadata": {},
   "outputs": [],
   "source": []
  }
 ],
 "metadata": {
  "kernelspec": {
   "display_name": "Python 3",
   "language": "python",
   "name": "python3"
  },
  "language_info": {
   "codemirror_mode": {
    "name": "ipython",
    "version": 3
   },
   "file_extension": ".py",
   "mimetype": "text/x-python",
   "name": "python",
   "nbconvert_exporter": "python",
   "pygments_lexer": "ipython3",
   "version": "3.7.0"
  }
 },
 "nbformat": 4,
 "nbformat_minor": 2
}
